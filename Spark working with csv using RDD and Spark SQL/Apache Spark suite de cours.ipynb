{
 "cells": [
  {
   "cell_type": "markdown",
   "metadata": {},
   "source": [
    "# Opérateurs relationnelles\n",
    "\n",
    "Les primitives (Opérateurs) relationnelles incluent les transformations du type que nous utilisons dans SQL\n",
    "\n",
    "Langage de requête structuré (prononcé comme \"suite\")\n",
    "\n",
    "** Noms clés **:\n",
    "    - Base de données \"relationnelle\"\n",
    "    - Table\n",
    "    - Rangée\n",
    "    - Colonne\n",
    "    - (Clé primaire)\n",
    "\n",
    "** Verbes clés **:\n",
    "    - `CREATE TABLE` /` DROP TABLE` pour modifier la structure de la base de données\n",
    "    - `SELECT` pour lire quelques lignes\n",
    "    - `INSERT` /` UPDATE` / `DELETE` pour modifier (ou supprimer) certaines lignes de tableaux\n",
    "\n",
    "** Modificateurs clés **:\n",
    "    - `WHERE`: imposer une condition\n",
    "    - `ORDER BY`: trier\n",
    "    - `GROUP BY`: agrégat (par exemple, tableaux croisés dynamiques dans Excel)\n",
    "    - `JOIN`: combinaison de tables en une seule requête\n",
    "  \n",
    "\n",
    "## Structures de données et fonctionnalités de Pandas\n",
    "\n",
    "C'est un bon outil pour l'analyse de petites données - c'est-à-dire lorsque tout rentre dans la mémoire. Le nouveau «nom» de base dans les pandas est la ** trame de données **. \n",
    "  \n",
    "C'est comme une table, avec des lignes et des colonnes (par exemple, comme en SQL). Sauf:\n",
    "  - Les lignes peuvent être indexées par quelque chose d'intéressant (il existe un support spécial pour les étiquettes comme les données catégorielles et chronologiques). Ceci est particulièrement utile lorsque vous avez des données de séries temporelles avec des points de données potentiellement manquants.\n",
    "  - Les cellules peuvent stocker des objets Python. (Comme dans SQL, les colonnes sont homogènes.)\n",
    "  - Au lieu de \"NULL\", le nom d'une valeur inexistante est \"NAN\". \n",
    "  \n",
    "Pandas fournit une analyse de données de base :\n",
    "  - ** Chargement des données: ** `read_csv`,` read_table`, `read_sql` et` read_html`\n",
    "  - ** Sélection, filtrage et agrégation ** (c'est-à-dire les opérations de type SQL): il existe une syntaxe spéciale pour le `SELECT`. Il existe la méthode `merge` pour` JOIN`. Il existe également une syntaxe simple: créer une nouvelle colonne dont la valeur est calculée à partir d'une autre colonne \n",
    "  - ** Regroupement ** `groupby`\n",
    "  - ** Agrégation de style \"tableau croisé dynamique\" \n",
    "  - ** Gestion NAN \n",
    "  - ** Statistiques de base: ** par ex. «mean», «median», «max», «min» et le «describe» pratique.\n",
    "  - ** Connexion à des analyses plus avancées: \n",
    "  - ** Visualisation: ** Par exemple `plot` et` hist`.\n",
    " \n",
    " \n",
    "Ci-dessous, nous allons explorer un ensemble de données d'assurance hypothécaire émises par la * Federal Housing Authority (FHA) *. Les données sont ventilées par secteur de recensement et nous indiquent la taille d'un joueur de la FHA dans chaque secteur (combien de foyers, etc.)."
   ]
  },
  {
   "cell_type": "code",
   "execution_count": 1,
   "metadata": {},
   "outputs": [
    {
     "data": {
      "text/plain": [
       "{1, 4}"
      ]
     },
     "execution_count": 1,
     "metadata": {},
     "output_type": "execute_result"
    }
   ],
   "source": [
    "d={1,2,3,4}\n",
    "s={1,6,4}\n",
    "d.intersection(s)"
   ]
  },
  {
   "cell_type": "code",
   "execution_count": 2,
   "metadata": {},
   "outputs": [
    {
     "data": {
      "text/plain": [
       "{1, 2, 3, 4}"
      ]
     },
     "execution_count": 2,
     "metadata": {},
     "output_type": "execute_result"
    }
   ],
   "source": [
    "d|=d.intersection(s)\n",
    "d"
   ]
  },
  {
   "cell_type": "code",
   "execution_count": 1,
   "metadata": {},
   "outputs": [
    {
     "data": {
      "text/plain": [
       "'/home/mbds/wd/TP2 spark'"
      ]
     },
     "execution_count": 1,
     "metadata": {},
     "output_type": "execute_result"
    }
   ],
   "source": [
    "import pandas as pd\n",
    "import os\n",
    "os.getcwd()"
   ]
  },
  {
   "cell_type": "code",
   "execution_count": 3,
   "metadata": {},
   "outputs": [],
   "source": [
    "names =[\"State_Code\", \"County_Code\", \"Census_Tract_Number\", \"NUM_ALL\", \"NUM_FHA\", \"PCT_NUM_FHA\", \"AMT_ALL\", \"AMT_FHA\", \"PCT_AMT_FHA\"]\n"
   ]
  },
  {
   "cell_type": "code",
   "execution_count": 8,
   "metadata": {},
   "outputs": [
    {
     "data": {
      "text/html": [
       "<div>\n",
       "<style scoped>\n",
       "    .dataframe tbody tr th:only-of-type {\n",
       "        vertical-align: middle;\n",
       "    }\n",
       "\n",
       "    .dataframe tbody tr th {\n",
       "        vertical-align: top;\n",
       "    }\n",
       "\n",
       "    .dataframe thead th {\n",
       "        text-align: right;\n",
       "    }\n",
       "</style>\n",
       "<table border=\"1\" class=\"dataframe\">\n",
       "  <thead>\n",
       "    <tr style=\"text-align: right;\">\n",
       "      <th></th>\n",
       "      <th>State_Code</th>\n",
       "      <th>County_Code</th>\n",
       "      <th>Census_Tract_Number</th>\n",
       "      <th>NUM_ALL</th>\n",
       "      <th>NUM_FHA</th>\n",
       "      <th>PCT_NUM_FHA</th>\n",
       "      <th>AMT_ALL</th>\n",
       "      <th>AMT_FHA</th>\n",
       "      <th>PCT_AMT_FHA</th>\n",
       "    </tr>\n",
       "  </thead>\n",
       "  <tbody>\n",
       "    <tr>\n",
       "      <th>0</th>\n",
       "      <td>8.0</td>\n",
       "      <td>75.0</td>\n",
       "      <td>NaN</td>\n",
       "      <td>1</td>\n",
       "      <td>1</td>\n",
       "      <td>100.0</td>\n",
       "      <td>258</td>\n",
       "      <td>258</td>\n",
       "      <td>100.0</td>\n",
       "    </tr>\n",
       "    <tr>\n",
       "      <th>1</th>\n",
       "      <td>28.0</td>\n",
       "      <td>49.0</td>\n",
       "      <td>103.01</td>\n",
       "      <td>1</td>\n",
       "      <td>1</td>\n",
       "      <td>100.0</td>\n",
       "      <td>71</td>\n",
       "      <td>71</td>\n",
       "      <td>100.0</td>\n",
       "    </tr>\n",
       "    <tr>\n",
       "      <th>2</th>\n",
       "      <td>40.0</td>\n",
       "      <td>3.0</td>\n",
       "      <td>NaN</td>\n",
       "      <td>1</td>\n",
       "      <td>1</td>\n",
       "      <td>100.0</td>\n",
       "      <td>215</td>\n",
       "      <td>215</td>\n",
       "      <td>100.0</td>\n",
       "    </tr>\n",
       "    <tr>\n",
       "      <th>3</th>\n",
       "      <td>39.0</td>\n",
       "      <td>113.0</td>\n",
       "      <td>603.00</td>\n",
       "      <td>3</td>\n",
       "      <td>3</td>\n",
       "      <td>100.0</td>\n",
       "      <td>206</td>\n",
       "      <td>206</td>\n",
       "      <td>100.0</td>\n",
       "    </tr>\n",
       "    <tr>\n",
       "      <th>4</th>\n",
       "      <td>12.0</td>\n",
       "      <td>105.0</td>\n",
       "      <td>124.04</td>\n",
       "      <td>2</td>\n",
       "      <td>2</td>\n",
       "      <td>100.0</td>\n",
       "      <td>303</td>\n",
       "      <td>303</td>\n",
       "      <td>100.0</td>\n",
       "    </tr>\n",
       "  </tbody>\n",
       "</table>\n",
       "</div>"
      ],
      "text/plain": [
       "   State_Code  County_Code  Census_Tract_Number  NUM_ALL  NUM_FHA  \\\n",
       "0         8.0         75.0                  NaN        1        1   \n",
       "1        28.0         49.0               103.01        1        1   \n",
       "2        40.0          3.0                  NaN        1        1   \n",
       "3        39.0        113.0               603.00        3        3   \n",
       "4        12.0        105.0               124.04        2        2   \n",
       "\n",
       "   PCT_NUM_FHA  AMT_ALL  AMT_FHA  PCT_AMT_FHA  \n",
       "0        100.0      258      258        100.0  \n",
       "1        100.0       71       71        100.0  \n",
       "2        100.0      215      215        100.0  \n",
       "3        100.0      206      206        100.0  \n",
       "4        100.0      303      303        100.0  "
      ]
     },
     "execution_count": 8,
     "metadata": {},
     "output_type": "execute_result"
    }
   ],
   "source": [
    "df = pd.read_csv(os.getcwd()+'/data/fha_by_tract.csv', names=names)  ## Loading a CSV file, without a header (so we have to provide field names)\n",
    "df.head()"
   ]
  },
  {
   "cell_type": "code",
   "execution_count": 12,
   "metadata": {},
   "outputs": [
    {
     "data": {
      "text/html": [
       "<div>\n",
       "<style scoped>\n",
       "    .dataframe tbody tr th:only-of-type {\n",
       "        vertical-align: middle;\n",
       "    }\n",
       "\n",
       "    .dataframe tbody tr th {\n",
       "        vertical-align: top;\n",
       "    }\n",
       "\n",
       "    .dataframe thead th {\n",
       "        text-align: right;\n",
       "    }\n",
       "</style>\n",
       "<table border=\"1\" class=\"dataframe\">\n",
       "  <thead>\n",
       "    <tr style=\"text-align: right;\">\n",
       "      <th></th>\n",
       "      <th>State_Code</th>\n",
       "      <th>County_Code</th>\n",
       "      <th>Census_Tract_Number</th>\n",
       "      <th>NUM_ALL</th>\n",
       "      <th>NUM_FHA</th>\n",
       "      <th>PCT_NUM_FHA</th>\n",
       "      <th>AMT_ALL</th>\n",
       "      <th>AMT_FHA</th>\n",
       "      <th>PCT_AMT_FHA</th>\n",
       "      <th>GEOID</th>\n",
       "    </tr>\n",
       "  </thead>\n",
       "  <tbody>\n",
       "    <tr>\n",
       "      <th>23999</th>\n",
       "      <td>1.0</td>\n",
       "      <td>49.0</td>\n",
       "      <td>9613.00</td>\n",
       "      <td>16</td>\n",
       "      <td>4</td>\n",
       "      <td>25.0000</td>\n",
       "      <td>2184</td>\n",
       "      <td>799</td>\n",
       "      <td>36.5842</td>\n",
       "      <td>1.049961e+09</td>\n",
       "    </tr>\n",
       "    <tr>\n",
       "      <th>45229</th>\n",
       "      <td>1.0</td>\n",
       "      <td>121.0</td>\n",
       "      <td>109.00</td>\n",
       "      <td>16</td>\n",
       "      <td>2</td>\n",
       "      <td>12.5000</td>\n",
       "      <td>1662</td>\n",
       "      <td>292</td>\n",
       "      <td>17.5692</td>\n",
       "      <td>1.121011e+09</td>\n",
       "    </tr>\n",
       "    <tr>\n",
       "      <th>30071</th>\n",
       "      <td>1.0</td>\n",
       "      <td>15.0</td>\n",
       "      <td>15.00</td>\n",
       "      <td>27</td>\n",
       "      <td>9</td>\n",
       "      <td>33.3333</td>\n",
       "      <td>2111</td>\n",
       "      <td>637</td>\n",
       "      <td>30.1753</td>\n",
       "      <td>1.015002e+09</td>\n",
       "    </tr>\n",
       "    <tr>\n",
       "      <th>65472</th>\n",
       "      <td>1.0</td>\n",
       "      <td>113.0</td>\n",
       "      <td>NaN</td>\n",
       "      <td>2</td>\n",
       "      <td>0</td>\n",
       "      <td>0.0000</td>\n",
       "      <td>435</td>\n",
       "      <td>0</td>\n",
       "      <td>0.0000</td>\n",
       "      <td>NaN</td>\n",
       "    </tr>\n",
       "    <tr>\n",
       "      <th>39229</th>\n",
       "      <td>1.0</td>\n",
       "      <td>103.0</td>\n",
       "      <td>54.04</td>\n",
       "      <td>60</td>\n",
       "      <td>14</td>\n",
       "      <td>23.3333</td>\n",
       "      <td>9263</td>\n",
       "      <td>2051</td>\n",
       "      <td>22.1419</td>\n",
       "      <td>1.103005e+09</td>\n",
       "    </tr>\n",
       "  </tbody>\n",
       "</table>\n",
       "</div>"
      ],
      "text/plain": [
       "       State_Code  County_Code  Census_Tract_Number  NUM_ALL  NUM_FHA  \\\n",
       "23999         1.0         49.0              9613.00       16        4   \n",
       "45229         1.0        121.0               109.00       16        2   \n",
       "30071         1.0         15.0                15.00       27        9   \n",
       "65472         1.0        113.0                  NaN        2        0   \n",
       "39229         1.0        103.0                54.04       60       14   \n",
       "\n",
       "       PCT_NUM_FHA  AMT_ALL  AMT_FHA  PCT_AMT_FHA         GEOID  \n",
       "23999      25.0000     2184      799      36.5842  1.049961e+09  \n",
       "45229      12.5000     1662      292      17.5692  1.121011e+09  \n",
       "30071      33.3333     2111      637      30.1753  1.015002e+09  \n",
       "65472       0.0000      435        0       0.0000           NaN  \n",
       "39229      23.3333     9263     2051      22.1419  1.103005e+09  "
      ]
     },
     "execution_count": 12,
     "metadata": {},
     "output_type": "execute_result"
    }
   ],
   "source": [
    "#create a new column as a function of  a group of columns\n",
    "df['GEOID'] = df['Census_Tract_Number']*100 + 10**6 * df['County_Code'] \\\n",
    "    + 10**9 * df['State_Code']   \n",
    "    \n",
    "#sort by value in column    \n",
    "df = df.sort_values('State_Code')  \n",
    "df.head()"
   ]
  },
  {
   "cell_type": "code",
   "execution_count": 9,
   "metadata": {},
   "outputs": [
    {
     "data": {
      "text/html": [
       "<div>\n",
       "<style scoped>\n",
       "    .dataframe tbody tr th:only-of-type {\n",
       "        vertical-align: middle;\n",
       "    }\n",
       "\n",
       "    .dataframe tbody tr th {\n",
       "        vertical-align: top;\n",
       "    }\n",
       "\n",
       "    .dataframe thead th {\n",
       "        text-align: right;\n",
       "    }\n",
       "</style>\n",
       "<table border=\"1\" class=\"dataframe\">\n",
       "  <thead>\n",
       "    <tr style=\"text-align: right;\">\n",
       "      <th></th>\n",
       "      <th>State_Code</th>\n",
       "      <th>County_Code</th>\n",
       "      <th>Census_Tract_Number</th>\n",
       "      <th>NUM_ALL</th>\n",
       "      <th>NUM_FHA</th>\n",
       "      <th>PCT_NUM_FHA</th>\n",
       "      <th>AMT_ALL</th>\n",
       "      <th>AMT_FHA</th>\n",
       "      <th>PCT_AMT_FHA</th>\n",
       "      <th>GEOID</th>\n",
       "    </tr>\n",
       "  </thead>\n",
       "  <tbody>\n",
       "    <tr>\n",
       "      <th>count</th>\n",
       "      <td>72034.000000</td>\n",
       "      <td>71984.000000</td>\n",
       "      <td>71040.000000</td>\n",
       "      <td>72035.000000</td>\n",
       "      <td>72035.000000</td>\n",
       "      <td>72035.000000</td>\n",
       "      <td>7.203500e+04</td>\n",
       "      <td>72035.000000</td>\n",
       "      <td>72035.000000</td>\n",
       "      <td>7.104000e+04</td>\n",
       "    </tr>\n",
       "    <tr>\n",
       "      <th>mean</th>\n",
       "      <td>28.322528</td>\n",
       "      <td>85.612636</td>\n",
       "      <td>2534.598023</td>\n",
       "      <td>36.970389</td>\n",
       "      <td>9.741667</td>\n",
       "      <td>28.566878</td>\n",
       "      <td>7.886092e+03</td>\n",
       "      <td>1689.278851</td>\n",
       "      <td>29.703179</td>\n",
       "      <td>2.837319e+10</td>\n",
       "    </tr>\n",
       "    <tr>\n",
       "      <th>std</th>\n",
       "      <td>16.459507</td>\n",
       "      <td>98.672445</td>\n",
       "      <td>3451.173223</td>\n",
       "      <td>53.975403</td>\n",
       "      <td>15.187832</td>\n",
       "      <td>22.404545</td>\n",
       "      <td>1.302542e+04</td>\n",
       "      <td>2800.346300</td>\n",
       "      <td>24.037779</td>\n",
       "      <td>1.648784e+10</td>\n",
       "    </tr>\n",
       "    <tr>\n",
       "      <th>min</th>\n",
       "      <td>1.000000</td>\n",
       "      <td>1.000000</td>\n",
       "      <td>1.000000</td>\n",
       "      <td>1.000000</td>\n",
       "      <td>0.000000</td>\n",
       "      <td>0.000000</td>\n",
       "      <td>2.000000e+00</td>\n",
       "      <td>0.000000</td>\n",
       "      <td>0.000000</td>\n",
       "      <td>1.001020e+09</td>\n",
       "    </tr>\n",
       "    <tr>\n",
       "      <th>25%</th>\n",
       "      <td>13.000000</td>\n",
       "      <td>29.000000</td>\n",
       "      <td>103.020000</td>\n",
       "      <td>13.000000</td>\n",
       "      <td>2.000000</td>\n",
       "      <td>11.111100</td>\n",
       "      <td>1.551000e+03</td>\n",
       "      <td>281.000000</td>\n",
       "      <td>10.780800</td>\n",
       "      <td>1.301596e+10</td>\n",
       "    </tr>\n",
       "    <tr>\n",
       "      <th>50%</th>\n",
       "      <td>28.000000</td>\n",
       "      <td>63.000000</td>\n",
       "      <td>442.010000</td>\n",
       "      <td>27.000000</td>\n",
       "      <td>6.000000</td>\n",
       "      <td>25.000000</td>\n",
       "      <td>4.168000e+03</td>\n",
       "      <td>932.000000</td>\n",
       "      <td>24.753900</td>\n",
       "      <td>2.804900e+10</td>\n",
       "    </tr>\n",
       "    <tr>\n",
       "      <th>75%</th>\n",
       "      <td>42.000000</td>\n",
       "      <td>109.000000</td>\n",
       "      <td>4503.012500</td>\n",
       "      <td>48.000000</td>\n",
       "      <td>13.000000</td>\n",
       "      <td>41.935500</td>\n",
       "      <td>9.668000e+03</td>\n",
       "      <td>2197.000000</td>\n",
       "      <td>44.207550</td>\n",
       "      <td>4.200348e+10</td>\n",
       "    </tr>\n",
       "    <tr>\n",
       "      <th>max</th>\n",
       "      <td>72.000000</td>\n",
       "      <td>840.000000</td>\n",
       "      <td>9922.010000</td>\n",
       "      <td>9477.000000</td>\n",
       "      <td>1932.000000</td>\n",
       "      <td>100.000000</td>\n",
       "      <td>1.575871e+06</td>\n",
       "      <td>331515.000000</td>\n",
       "      <td>100.000000</td>\n",
       "      <td>7.215375e+10</td>\n",
       "    </tr>\n",
       "  </tbody>\n",
       "</table>\n",
       "</div>"
      ],
      "text/plain": [
       "         State_Code   County_Code  Census_Tract_Number       NUM_ALL  \\\n",
       "count  72034.000000  71984.000000         71040.000000  72035.000000   \n",
       "mean      28.322528     85.612636          2534.598023     36.970389   \n",
       "std       16.459507     98.672445          3451.173223     53.975403   \n",
       "min        1.000000      1.000000             1.000000      1.000000   \n",
       "25%       13.000000     29.000000           103.020000     13.000000   \n",
       "50%       28.000000     63.000000           442.010000     27.000000   \n",
       "75%       42.000000    109.000000          4503.012500     48.000000   \n",
       "max       72.000000    840.000000          9922.010000   9477.000000   \n",
       "\n",
       "            NUM_FHA   PCT_NUM_FHA       AMT_ALL        AMT_FHA   PCT_AMT_FHA  \\\n",
       "count  72035.000000  72035.000000  7.203500e+04   72035.000000  72035.000000   \n",
       "mean       9.741667     28.566878  7.886092e+03    1689.278851     29.703179   \n",
       "std       15.187832     22.404545  1.302542e+04    2800.346300     24.037779   \n",
       "min        0.000000      0.000000  2.000000e+00       0.000000      0.000000   \n",
       "25%        2.000000     11.111100  1.551000e+03     281.000000     10.780800   \n",
       "50%        6.000000     25.000000  4.168000e+03     932.000000     24.753900   \n",
       "75%       13.000000     41.935500  9.668000e+03    2197.000000     44.207550   \n",
       "max     1932.000000    100.000000  1.575871e+06  331515.000000    100.000000   \n",
       "\n",
       "              GEOID  \n",
       "count  7.104000e+04  \n",
       "mean   2.837319e+10  \n",
       "std    1.648784e+10  \n",
       "min    1.001020e+09  \n",
       "25%    1.301596e+10  \n",
       "50%    2.804900e+10  \n",
       "75%    4.200348e+10  \n",
       "max    7.215375e+10  "
      ]
     },
     "execution_count": 9,
     "metadata": {},
     "output_type": "execute_result"
    }
   ],
   "source": [
    "df.describe()"
   ]
  },
  {
   "cell_type": "code",
   "execution_count": 10,
   "metadata": {},
   "outputs": [
    {
     "data": {
      "text/html": [
       "<div>\n",
       "<style scoped>\n",
       "    .dataframe tbody tr th:only-of-type {\n",
       "        vertical-align: middle;\n",
       "    }\n",
       "\n",
       "    .dataframe tbody tr th {\n",
       "        vertical-align: top;\n",
       "    }\n",
       "\n",
       "    .dataframe thead th {\n",
       "        text-align: right;\n",
       "    }\n",
       "</style>\n",
       "<table border=\"1\" class=\"dataframe\">\n",
       "  <thead>\n",
       "    <tr style=\"text-align: right;\">\n",
       "      <th></th>\n",
       "      <th>NUM_ALL</th>\n",
       "    </tr>\n",
       "    <tr>\n",
       "      <th>State_Code</th>\n",
       "      <th></th>\n",
       "    </tr>\n",
       "  </thead>\n",
       "  <tbody>\n",
       "    <tr>\n",
       "      <th>1.0</th>\n",
       "      <td>35833</td>\n",
       "    </tr>\n",
       "    <tr>\n",
       "      <th>2.0</th>\n",
       "      <td>7414</td>\n",
       "    </tr>\n",
       "    <tr>\n",
       "      <th>4.0</th>\n",
       "      <td>75730</td>\n",
       "    </tr>\n",
       "    <tr>\n",
       "      <th>5.0</th>\n",
       "      <td>25531</td>\n",
       "    </tr>\n",
       "    <tr>\n",
       "      <th>6.0</th>\n",
       "      <td>307482</td>\n",
       "    </tr>\n",
       "  </tbody>\n",
       "</table>\n",
       "</div>"
      ],
      "text/plain": [
       "            NUM_ALL\n",
       "State_Code         \n",
       "1.0           35833\n",
       "2.0            7414\n",
       "4.0           75730\n",
       "5.0           25531\n",
       "6.0          307482"
      ]
     },
     "execution_count": 10,
     "metadata": {},
     "output_type": "execute_result"
    }
   ],
   "source": [
    "#groupby aggregate\n",
    "df_by_state = df[['State_Code', 'NUM_ALL']].groupby('State_Code').sum()\n",
    "df_by_state.head(5)"
   ]
  },
  {
   "cell_type": "code",
   "execution_count": 11,
   "metadata": {},
   "outputs": [
    {
     "data": {
      "text/html": [
       "<div>\n",
       "<style scoped>\n",
       "    .dataframe tbody tr th:only-of-type {\n",
       "        vertical-align: middle;\n",
       "    }\n",
       "\n",
       "    .dataframe tbody tr th {\n",
       "        vertical-align: top;\n",
       "    }\n",
       "\n",
       "    .dataframe thead th {\n",
       "        text-align: right;\n",
       "    }\n",
       "</style>\n",
       "<table border=\"1\" class=\"dataframe\">\n",
       "  <thead>\n",
       "    <tr style=\"text-align: right;\">\n",
       "      <th></th>\n",
       "      <th>NUM_FHA</th>\n",
       "    </tr>\n",
       "    <tr>\n",
       "      <th>State_Code</th>\n",
       "      <th></th>\n",
       "    </tr>\n",
       "  </thead>\n",
       "  <tbody>\n",
       "    <tr>\n",
       "      <th>1.0</th>\n",
       "      <td>9269</td>\n",
       "    </tr>\n",
       "    <tr>\n",
       "      <th>2.0</th>\n",
       "      <td>1850</td>\n",
       "    </tr>\n",
       "    <tr>\n",
       "      <th>4.0</th>\n",
       "      <td>22533</td>\n",
       "    </tr>\n",
       "    <tr>\n",
       "      <th>5.0</th>\n",
       "      <td>5665</td>\n",
       "    </tr>\n",
       "    <tr>\n",
       "      <th>6.0</th>\n",
       "      <td>88745</td>\n",
       "    </tr>\n",
       "  </tbody>\n",
       "</table>\n",
       "</div>"
      ],
      "text/plain": [
       "            NUM_FHA\n",
       "State_Code         \n",
       "1.0            9269\n",
       "2.0            1850\n",
       "4.0           22533\n",
       "5.0            5665\n",
       "6.0           88745"
      ]
     },
     "execution_count": 11,
     "metadata": {},
     "output_type": "execute_result"
    }
   ],
   "source": [
    "#groupby aggregate\n",
    "df_by_state = df[['State_Code', 'NUM_FHA']].groupby('State_Code').sum()\n",
    "df_by_state.head(5)"
   ]
  },
  {
   "cell_type": "code",
   "execution_count": 13,
   "metadata": {},
   "outputs": [
    {
     "data": {
      "text/plain": [
       "23999     4\n",
       "70052     0\n",
       "28583    19\n",
       "51000     2\n",
       "35321     8\n",
       "Name: NUM_FHA, dtype: int64"
      ]
     },
     "execution_count": 13,
     "metadata": {},
     "output_type": "execute_result"
    }
   ],
   "source": [
    "df['NUM_FHA'].head()"
   ]
  },
  {
   "cell_type": "code",
   "execution_count": 14,
   "metadata": {},
   "outputs": [
    {
     "data": {
      "text/plain": [
       "23999     4\n",
       "70052     0\n",
       "28583    19\n",
       "51000     2\n",
       "35321     8\n",
       "Name: NUM_FHA, dtype: int64"
      ]
     },
     "execution_count": 14,
     "metadata": {},
     "output_type": "execute_result"
    }
   ],
   "source": [
    "df.NUM_FHA.head()"
   ]
  },
  {
   "cell_type": "code",
   "execution_count": 15,
   "metadata": {},
   "outputs": [
    {
     "data": {
      "text/plain": [
       "<AxesSubplot:>"
      ]
     },
     "execution_count": 15,
     "metadata": {},
     "output_type": "execute_result"
    },
    {
     "data": {
      "image/png": "[encoded data removed]",
      "text/plain": [
       "<Figure size 432x288 with 1 Axes>"
      ]
     },
     "metadata": {
      "needs_background": "light"
     },
     "output_type": "display_data"
    }
   ],
   "source": [
    "df.NUM_FHA.plot()"
   ]
  },
  {
   "cell_type": "markdown",
   "metadata": {},
   "source": [
    "# Spark SQL\n",
    "Spark SQL apporte des dataframes et des fonctionnalités SQL à Spark et, à bien des égards, un peu comme les dataframes de Pandas.\n",
    "\n",
    "Spark SQL permet d'interroger des données structurées dans les applications Spark. Il prend en charge 2 analyseurs de requêtes: SQL et HiveQL. Nous nous concentrerons sur SQL dans ce qui suit. Spark SQL et les dataframes sont souvent utilisés comme synonymes.\n",
    "\n",
    "Il apporte également une structure de données DataFrame qui est la meilleure pour l'analyse des données tabulaires.\n",
    "\n",
    "Malgré toutes les similitudes suggérées, la mise en œuvre des dataframes dans Spark et Pandas est assez différente."
   ]
  },
  {
   "cell_type": "markdown",
   "metadata": {},
   "source": [
    "## Spark DataFrames avec Python\n",
    "\n",
    "Ce bloc-notes présente des exemples d'utilisation de Spark DataFrames en Python."
   ]
  },
  {
   "cell_type": "code",
   "execution_count": 14,
   "metadata": {},
   "outputs": [],
   "source": [
    "import pyspark\n",
    "try:\n",
    "    sc\n",
    "except NameError:    \n",
    "    spark = pyspark.sql.SparkSession.builder.master(\"local[*]\").appName(\"BD course\").getOrCreate()\n",
    "    sc = spark.sparkContext"
   ]
  },
  {
   "cell_type": "markdown",
   "metadata": {},
   "source": [
    "répétez l'exemple de FHA comme nous l'avons fait dans Pandas:"
   ]
  },
  {
   "cell_type": "code",
   "execution_count": 16,
   "metadata": {},
   "outputs": [
    {
     "data": {
      "text/plain": [
       "DataFrame[08: int, 075: int, _c2: double, 13: int, 14: int, 1005: double, 2586: int, 2587: int, 1008: double]"
      ]
     },
     "execution_count": 16,
     "metadata": {},
     "output_type": "execute_result"
    }
   ],
   "source": [
    "delimiter = \",\"\n",
    "\n",
    "#csv into spark dataframe   \n",
    "input_df = spark.read.options(header='true', inferschema='true',delimiter=delimiter)\\\n",
    "                                    .csv(\"file://\"+os.getcwd()+'/data/fha_by_tract.csv')"
   ]
  },
  {
   "cell_type": "code",
   "execution_count": 17,
   "metadata": {},
   "outputs": [
    {
     "data": {
      "text/plain": [
       "['08', '075', '_c2', '13', '14', '1005', '2586', '2587', '1008']"
      ]
     },
     "execution_count": 17,
     "metadata": {},
     "output_type": "execute_result"
    }
   ],
   "source": [
    "\n",
    "#rename columns\n",
    "oldColumns = input_df.schema.names\n",
    "oldColumns\n"
   ]
  },
  {
   "cell_type": "code",
   "execution_count": 18,
   "metadata": {},
   "outputs": [],
   "source": [
    "newColumns = [\"State_Code\", \"County_Code\", \"Census_Tract_Number\", \"NUM_ALL\", \"NUM_FHA\", \"PCT_NUM_FHA\", \"AMT_ALL\", \"AMT_FHA\", \"PCT_AMT_FHA\"]"
   ]
  },
  {
   "cell_type": "code",
   "execution_count": 19,
   "metadata": {},
   "outputs": [
    {
     "name": "stdout",
     "output_type": "stream",
     "text": [
      "+---+---+------+---+---+-----+----+----+-----+\n",
      "| 08|075|   _c2| 13| 14| 1005|2586|2587| 1008|\n",
      "+---+---+------+---+---+-----+----+----+-----+\n",
      "| 28| 49|103.01|  1|  1|100.0|  71|  71|100.0|\n",
      "| 40|  3|  null|  1|  1|100.0| 215| 215|100.0|\n",
      "| 39|113| 603.0|  3|  3|100.0| 206| 206|100.0|\n",
      "+---+---+------+---+---+-----+----+----+-----+\n",
      "only showing top 3 rows\n",
      "\n"
     ]
    }
   ],
   "source": [
    "for i in range(len(oldColumns)):\n",
    "    input_df.withColumnRenamed(oldColumns[i],newColumns[i])\n",
    "input_df.show(3)\n",
    "\n",
    "# dataframe au spark rdd et dataframe sont immutable"
   ]
  },
  {
   "cell_type": "markdown",
   "metadata": {},
   "source": [
    "# Reduce avec un initialiseur"
   ]
  },
  {
   "cell_type": "code",
   "execution_count": 20,
   "metadata": {},
   "outputs": [
    {
     "data": {
      "text/plain": [
       "1010"
      ]
     },
     "execution_count": 20,
     "metadata": {},
     "output_type": "execute_result"
    }
   ],
   "source": [
    "from functools import reduce\n",
    "numbers = [1, 2, 3, 4]\n",
    "reduce(lambda a, b: a + b, numbers,1000) # 3 eme parametre initialiseur"
   ]
  },
  {
   "cell_type": "code",
   "execution_count": 21,
   "metadata": {},
   "outputs": [
    {
     "data": {
      "text/plain": [
       "1010"
      ]
     },
     "execution_count": 21,
     "metadata": {},
     "output_type": "execute_result"
    }
   ],
   "source": [
    "numbers = [1, 2, 3, 4]\n",
    "s= 1000\n",
    "for i in range(len(numbers)): \n",
    "    s+=numbers[i]\n",
    "s"
   ]
  },
  {
   "cell_type": "code",
   "execution_count": 35,
   "metadata": {},
   "outputs": [
    {
     "name": "stdout",
     "output_type": "stream",
     "text": [
      "root\n",
      " |-- State_Code: integer (nullable = true)\n",
      " |-- County_Code: integer (nullable = true)\n",
      " |-- Census_Tract_Number: double (nullable = true)\n",
      " |-- NUM_ALL: integer (nullable = true)\n",
      " |-- NUM_FHA: integer (nullable = true)\n",
      " |-- PCT_NUM_FHA: double (nullable = true)\n",
      " |-- AMT_ALL: integer (nullable = true)\n",
      " |-- AMT_FHA: integer (nullable = true)\n",
      " |-- PCT_AMT_FHA: double (nullable = true)\n",
      "\n",
      "+----------+-----------+-------------------+-------+-------+-----------+-------+-------+-----------+\n",
      "|State_Code|County_Code|Census_Tract_Number|NUM_ALL|NUM_FHA|PCT_NUM_FHA|AMT_ALL|AMT_FHA|PCT_AMT_FHA|\n",
      "+----------+-----------+-------------------+-------+-------+-----------+-------+-------+-----------+\n",
      "|        28|         49|             103.01|      1|      1|      100.0|     71|     71|      100.0|\n",
      "|        40|          3|               null|      1|      1|      100.0|    215|    215|      100.0|\n",
      "|        39|        113|              603.0|      3|      3|      100.0|    206|    206|      100.0|\n",
      "+----------+-----------+-------------------+-------+-------+-----------+-------+-------+-----------+\n",
      "only showing top 3 rows\n",
      "\n"
     ]
    }
   ],
   "source": [
    "fha_df = reduce(lambda input_df, idx: input_df.withColumnRenamed(oldColumns[idx], newColumns[idx]), range(len(oldColumns)), input_df)\n",
    "fha_df.printSchema()\n",
    "fha_df.show(3)"
   ]
  },
  {
   "cell_type": "markdown",
   "metadata": {},
   "source": [
    "## Création de dataframes\n",
    "\n",
    "Dans l'exemple précédent, nous avons créé un dataframe en chargeant des données à partir d'un fichier CSV.\n",
    "\n",
    "Dans ce qui suit, nous créons un dataframe à partir d'une liste d'objets `Row`."
   ]
  },
  {
   "cell_type": "code",
   "execution_count": 22,
   "metadata": {},
   "outputs": [
    {
     "name": "stdout",
     "output_type": "stream",
     "text": [
      "Row(id='123456', name='Computer Science')\n",
      "Row(firstName='xiangrui', lastName='meng', email='no-reply@stanford.edu', salary=120000)\n",
      "no-reply@berkeley.edu\n"
     ]
    }
   ],
   "source": [
    "from pyspark.sql import *\n",
    "# Create Example Data - Departments and Employees\n",
    "\n",
    "# Create the Departments\n",
    "department1 = Row(id='123456', name='Computer Science')\n",
    "department2 = Row(id='789012', name='Mechanical Engineering')\n",
    "department3 = Row(id='345678', name='Theater and Drama')\n",
    "department4 = Row(id='901234', name='Indoor Recreation')\n",
    "\n",
    "# Create the Employees\n",
    "Employee = Row(\"firstName\", \"lastName\", \"email\", \"salary\")\n",
    "employee1 = Employee('michael', 'armbrust', 'no-reply@berkeley.edu', 100000)\n",
    "employee2 = Employee('xiangrui', 'meng', 'no-reply@stanford.edu', 120000)\n",
    "employee3 = Employee('matei', None, 'no-reply@waterloo.edu', 140000)\n",
    "employee4 = Employee(None, 'wendell', 'no-reply@berkeley.edu', 160000)\n",
    "\n",
    "# Create the DepartmentWithEmployees instances from Departments and Employees\n",
    "# structure DAE = structure{ dep , Emp}\n",
    "departmentWithEmployees1 = Row(department=department1, employees=[employee1, employee2])\n",
    "departmentWithEmployees2 = Row(department=department2, employees=[employee3, employee4])\n",
    "departmentWithEmployees3 = Row(department=department3, employees=[employee1, employee4])\n",
    "departmentWithEmployees4 = Row(department=department4, employees=[employee2, employee3])\n",
    "\n",
    "print (department1)\n",
    "print (employee2)\n",
    "print (departmentWithEmployees1.employees[0].email)\n",
    "\n"
   ]
  },
  {
   "cell_type": "markdown",
   "metadata": {},
   "source": [
    "Créez le premier DataFrame à partir d'une liste de lignes."
   ]
  },
  {
   "cell_type": "code",
   "execution_count": 26,
   "metadata": {},
   "outputs": [
    {
     "name": "stdout",
     "output_type": "stream",
     "text": [
      "+--------------------+--------------------+\n",
      "|          department|           employees|\n",
      "+--------------------+--------------------+\n",
      "|[123456, Computer...|[[michael, armbru...|\n",
      "|[789012, Mechanic...|[[matei,, no-repl...|\n",
      "+--------------------+--------------------+\n",
      "\n",
      "root\n",
      " |-- department: struct (nullable = true)\n",
      " |    |-- id: string (nullable = true)\n",
      " |    |-- name: string (nullable = true)\n",
      " |-- employees: array (nullable = true)\n",
      " |    |-- element: struct (containsNull = true)\n",
      " |    |    |-- firstName: string (nullable = true)\n",
      " |    |    |-- lastName: string (nullable = true)\n",
      " |    |    |-- email: string (nullable = true)\n",
      " |    |    |-- salary: long (nullable = true)\n",
      "\n"
     ]
    }
   ],
   "source": [
    "departmentsWithEmployeesSeq1 = [departmentWithEmployees1, departmentWithEmployees2]\n",
    "df1 = spark.createDataFrame(departmentsWithEmployeesSeq1)\n",
    "df1.show()\n",
    "df1.printSchema()"
   ]
  },
  {
   "cell_type": "markdown",
   "metadata": {},
   "source": [
    "Créez un 2ème DataFrame à partir d'une liste de lignes."
   ]
  },
  {
   "cell_type": "code",
   "execution_count": 30,
   "metadata": {},
   "outputs": [
    {
     "name": "stdout",
     "output_type": "stream",
     "text": [
      "+--------------------+--------------------+\n",
      "|          department|           employees|\n",
      "+--------------------+--------------------+\n",
      "|[345678, Theater ...|[[michael, armbru...|\n",
      "|[901234, Indoor R...|[[xiangrui, meng,...|\n",
      "+--------------------+--------------------+\n",
      "\n"
     ]
    }
   ],
   "source": [
    "departmentsWithEmployeesSeq2 = [departmentWithEmployees3, departmentWithEmployees4]\n",
    "df2 = spark.createDataFrame(departmentsWithEmployeesSeq2)\n",
    "df2.show()"
   ]
  },
  {
   "cell_type": "markdown",
   "metadata": {},
   "source": [
    "### Operations sur DataFrames\n",
    "\n",
    "Union aux DataFrames."
   ]
  },
  {
   "cell_type": "code",
   "execution_count": 27,
   "metadata": {},
   "outputs": [
    {
     "name": "stdout",
     "output_type": "stream",
     "text": [
      "+--------------------+--------------------+\n",
      "|          department|           employees|\n",
      "+--------------------+--------------------+\n",
      "|[123456, Computer...|[[michael, armbru...|\n",
      "|[789012, Mechanic...|[[matei,, no-repl...|\n",
      "|[345678, Theater ...|[[michael, armbru...|\n",
      "|[901234, Indoor R...|[[xiangrui, meng,...|\n",
      "+--------------------+--------------------+\n",
      "\n"
     ]
    }
   ],
   "source": [
    "unionDF = df1.unionAll(df2)\n",
    "unionDF.show()"
   ]
  },
  {
   "cell_type": "markdown",
   "metadata": {},
   "source": [
    "Écrivez le DataFrame unifié dans un fichier Parquet \n",
    "\n",
    "**Les fichiers Parquet** conservent le schéma avec les données et sont donc utilisés pour traiter un fichier structuré."
   ]
  },
  {
   "cell_type": "code",
   "execution_count": 32,
   "metadata": {},
   "outputs": [],
   "source": [
    "def output_cleaner():\n",
    "    import os\n",
    "    os.system(\"rm -rf \"+os.getcwd()+\"/output*\")\n",
    "    print (\"Output folders removed!\")"
   ]
  },
  {
   "cell_type": "code",
   "execution_count": 33,
   "metadata": {
    "scrolled": true
   },
   "outputs": [
    {
     "name": "stdout",
     "output_type": "stream",
     "text": [
      "Output folders removed!\n"
     ]
    }
   ],
   "source": [
    "#clean tmp directories if necessary\n",
    "output_cleaner()"
   ]
  },
  {
   "cell_type": "code",
   "execution_count": 34,
   "metadata": {},
   "outputs": [],
   "source": [
    "fileOutput=\"file://\"+os.getcwd()+\"/output_parquet/dfexample_parquet\"\n",
    "unionDF.write.parquet(fileOutput)"
   ]
  },
  {
   "cell_type": "markdown",
   "metadata": {},
   "source": [
    "Lisez un DataFrame à partir du fichier Parquet"
   ]
  },
  {
   "cell_type": "code",
   "execution_count": 35,
   "metadata": {},
   "outputs": [
    {
     "name": "stdout",
     "output_type": "stream",
     "text": [
      "+--------------------+--------------------+\n",
      "|          department|           employees|\n",
      "+--------------------+--------------------+\n",
      "|[123456, Computer...|[[michael, armbru...|\n",
      "|[789012, Mechanic...|[[matei,, no-repl...|\n",
      "|[345678, Theater ...|[[michael, armbru...|\n",
      "|[901234, Indoor R...|[[xiangrui, meng,...|\n",
      "+--------------------+--------------------+\n",
      "\n",
      "root\n",
      " |-- department: struct (nullable = true)\n",
      " |    |-- id: string (nullable = true)\n",
      " |    |-- name: string (nullable = true)\n",
      " |-- employees: array (nullable = true)\n",
      " |    |-- element: struct (containsNull = true)\n",
      " |    |    |-- firstName: string (nullable = true)\n",
      " |    |    |-- lastName: string (nullable = true)\n",
      " |    |    |-- email: string (nullable = true)\n",
      " |    |    |-- salary: long (nullable = true)\n",
      "\n"
     ]
    }
   ],
   "source": [
    "parquetDF = spark.read.parquet(fileOutput)\n",
    "parquetDF.show()\n",
    "parquetDF.printSchema()"
   ]
  },
  {
   "cell_type": "markdown",
   "metadata": {},
   "source": [
    "## Travailler avec des colonnes de type Struct: fonction d'explosion\n",
    "\n",
    "Lorsque vous travaillez avec des colonnes composites - par exemple, où chaque élément est un type d'objet ou de structure, ou un tableau - nous devons souvent appliquer une transformation à un membre de classe / structure particulier. La fonction Explode aide à y parvenir:\n",
    "* https://spark.apache.org/docs/latest/api/python/_modules/pyspark/sql/functions.html#explode\n",
    "* https://sparkbyexamples.com/pyspark/pyspark-explode-array-and-map-columns-to-rows/"
   ]
  },
  {
   "cell_type": "code",
   "execution_count": 36,
   "metadata": {},
   "outputs": [
    {
     "name": "stdout",
     "output_type": "stream",
     "text": [
      "+--------------------+\n",
      "|                   e|\n",
      "+--------------------+\n",
      "|[michael, armbrus...|\n",
      "|[xiangrui, meng, ...|\n",
      "|[matei,, no-reply...|\n",
      "+--------------------+\n",
      "only showing top 3 rows\n",
      "\n"
     ]
    }
   ],
   "source": [
    "from pyspark.sql.functions import explode\n",
    "\n",
    "df = parquetDF.select(explode(\"employees\").alias(\"e\"))\n",
    "df.show(3)"
   ]
  },
  {
   "cell_type": "code",
   "execution_count": 49,
   "metadata": {},
   "outputs": [
    {
     "name": "stdout",
     "output_type": "stream",
     "text": [
      "+---------+--------+--------------------+------+\n",
      "|firstName|lastName|               email|salary|\n",
      "+---------+--------+--------------------+------+\n",
      "|  michael|armbrust|no-reply@berkeley...|100000|\n",
      "| xiangrui|    meng|no-reply@stanford...|120000|\n",
      "|    matei|    null|no-reply@waterloo...|140000|\n",
      "|     null| wendell|no-reply@berkeley...|160000|\n",
      "|  michael|armbrust|no-reply@berkeley...|100000|\n",
      "|     null| wendell|no-reply@berkeley...|160000|\n",
      "| xiangrui|    meng|no-reply@stanford...|120000|\n",
      "|    matei|    null|no-reply@waterloo...|140000|\n",
      "+---------+--------+--------------------+------+\n",
      "\n"
     ]
    }
   ],
   "source": [
    "explodedDF = df.selectExpr(\"e.firstName\", \"e.lastName\", \"e.email\", \"e.salary\")\n",
    "explodedDF.show()"
   ]
  },
  {
   "cell_type": "code",
   "execution_count": 50,
   "metadata": {},
   "outputs": [
    {
     "name": "stdout",
     "output_type": "stream",
     "text": [
      "root\n",
      " |-- firstName: string (nullable = true)\n",
      " |-- lastName: string (nullable = true)\n",
      " |-- email: string (nullable = true)\n",
      " |-- salary: long (nullable = true)\n",
      "\n"
     ]
    }
   ],
   "source": [
    "explodedDF.printSchema()"
   ]
  },
  {
   "cell_type": "markdown",
   "metadata": {},
   "source": [
    "## Filtrage et tri des dataframes\n",
    "\n",
    "Nous pouvons maintenant appliquer le filtrage et le tri par un membre de données individuel:"
   ]
  },
  {
   "cell_type": "code",
   "execution_count": 51,
   "metadata": {},
   "outputs": [
    {
     "name": "stdout",
     "output_type": "stream",
     "text": [
      "+---------+--------+--------------------+------+\n",
      "|firstName|lastName|               email|salary|\n",
      "+---------+--------+--------------------+------+\n",
      "| xiangrui|    meng|no-reply@stanford...|120000|\n",
      "| xiangrui|    meng|no-reply@stanford...|120000|\n",
      "+---------+--------+--------------------+------+\n",
      "\n"
     ]
    }
   ],
   "source": [
    "filterDF = explodedDF.filter(explodedDF.firstName == \"xiangrui\").sort(explodedDF.lastName)\n",
    "filterDF.show()"
   ]
  },
  {
   "cell_type": "markdown",
   "metadata": {},
   "source": [
    "Voici comment appliquer un prédicat composite pour le filtrage. De plus, par défaut, le tri est dans l'ordre décroissant, on peut demander à faire par ordre croissant:"
   ]
  },
  {
   "cell_type": "code",
   "execution_count": 52,
   "metadata": {},
   "outputs": [
    {
     "name": "stdout",
     "output_type": "stream",
     "text": [
      "+---------+--------+--------------------+------+\n",
      "|firstName|lastName|               email|salary|\n",
      "+---------+--------+--------------------+------+\n",
      "|  michael|armbrust|no-reply@berkeley...|100000|\n",
      "|  michael|armbrust|no-reply@berkeley...|100000|\n",
      "| xiangrui|    meng|no-reply@stanford...|120000|\n",
      "| xiangrui|    meng|no-reply@stanford...|120000|\n",
      "+---------+--------+--------------------+------+\n",
      "\n"
     ]
    }
   ],
   "source": [
    "from pyspark.sql.functions import col, asc\n",
    "\n",
    "# Use `|` instead of `or` \n",
    "filterDF = explodedDF.filter((col(\"firstName\") == \"xiangrui\") | (col(\"firstName\") == \"michael\"))\\\n",
    "                     .sort(asc(\"lastName\"))\n",
    "filterDF.show()"
   ]
  },
  {
   "cell_type": "markdown",
   "metadata": {},
   "source": [
    "La clause `where ()` est équivalente à `filter ()`."
   ]
  },
  {
   "cell_type": "code",
   "execution_count": 53,
   "metadata": {},
   "outputs": [
    {
     "name": "stdout",
     "output_type": "stream",
     "text": [
      "+---------+--------+--------------------+------+\n",
      "|firstName|lastName|               email|salary|\n",
      "+---------+--------+--------------------+------+\n",
      "|  michael|armbrust|no-reply@berkeley...|100000|\n",
      "|  michael|armbrust|no-reply@berkeley...|100000|\n",
      "| xiangrui|    meng|no-reply@stanford...|120000|\n",
      "| xiangrui|    meng|no-reply@stanford...|120000|\n",
      "+---------+--------+--------------------+------+\n",
      "\n"
     ]
    }
   ],
   "source": [
    "whereDF = explodedDF.where((col(\"firstName\") == \"xiangrui\") | (col(\"firstName\") == \"michael\"))\\\n",
    "                    .sort(asc(\"lastName\"))\n",
    "whereDF.show()"
   ]
  },
  {
   "cell_type": "markdown",
   "metadata": {},
   "source": [
    "## Working with NAs\n",
    "\n",
    "Replace null values with -- using DataFrame Na functions."
   ]
  },
  {
   "cell_type": "code",
   "execution_count": 54,
   "metadata": {},
   "outputs": [
    {
     "name": "stdout",
     "output_type": "stream",
     "text": [
      "+---------+--------+--------------------+------+\n",
      "|firstName|lastName|               email|salary|\n",
      "+---------+--------+--------------------+------+\n",
      "|  michael|armbrust|no-reply@berkeley...|100000|\n",
      "| xiangrui|    meng|no-reply@stanford...|120000|\n",
      "|    matei|    null|no-reply@waterloo...|140000|\n",
      "|     null| wendell|no-reply@berkeley...|160000|\n",
      "|  michael|armbrust|no-reply@berkeley...|100000|\n",
      "|     null| wendell|no-reply@berkeley...|160000|\n",
      "| xiangrui|    meng|no-reply@stanford...|120000|\n",
      "|    matei|    null|no-reply@waterloo...|140000|\n",
      "+---------+--------+--------------------+------+\n",
      "\n"
     ]
    }
   ],
   "source": [
    "explodedDF.show()"
   ]
  },
  {
   "cell_type": "code",
   "execution_count": 56,
   "metadata": {},
   "outputs": [
    {
     "name": "stdout",
     "output_type": "stream",
     "text": [
      "+---------+--------+--------------------+------+\n",
      "|firstName|lastName|               email|salary|\n",
      "+---------+--------+--------------------+------+\n",
      "|  michael|armbrust|no-reply@berkeley...|100000|\n",
      "| xiangrui|    meng|no-reply@stanford...|120000|\n",
      "|    matei|      --|no-reply@waterloo...|140000|\n",
      "|       --| wendell|no-reply@berkeley...|160000|\n",
      "|  michael|armbrust|no-reply@berkeley...|100000|\n",
      "|       --| wendell|no-reply@berkeley...|160000|\n",
      "| xiangrui|    meng|no-reply@stanford...|120000|\n",
      "|    matei|      --|no-reply@waterloo...|140000|\n",
      "+---------+--------+--------------------+------+\n",
      "\n"
     ]
    }
   ],
   "source": [
    "nonNullDF = explodedDF.fillna(\"--\")\n",
    "nonNullDF.show()"
   ]
  },
  {
   "cell_type": "markdown",
   "metadata": {},
   "source": [
    "Récupérez uniquement les lignes avec firstName ou lastName manquant."
   ]
  },
  {
   "cell_type": "code",
   "execution_count": 57,
   "metadata": {},
   "outputs": [
    {
     "name": "stdout",
     "output_type": "stream",
     "text": [
      "+---------+--------+--------------------+------+\n",
      "|firstName|lastName|               email|salary|\n",
      "+---------+--------+--------------------+------+\n",
      "|     null| wendell|no-reply@berkeley...|160000|\n",
      "|     null| wendell|no-reply@berkeley...|160000|\n",
      "|    matei|    null|no-reply@waterloo...|140000|\n",
      "|    matei|    null|no-reply@waterloo...|140000|\n",
      "+---------+--------+--------------------+------+\n",
      "\n"
     ]
    }
   ],
   "source": [
    "filterNonNullDF = explodedDF.filter(col(\"firstName\").isNull() | col(\"lastName\").isNull())\\\n",
    "                    .sort(\"email\")\n",
    "filterNonNullDF.show()"
   ]
  },
  {
   "cell_type": "code",
   "execution_count": 65,
   "metadata": {},
   "outputs": [
    {
     "name": "stdout",
     "output_type": "stream",
     "text": [
      "+---------+--------+--------------------+------+\n",
      "|firstName|lastName|               email|salary|\n",
      "+---------+--------+--------------------+------+\n",
      "|  michael|armbrust|no-reply@berkeley...|100000|\n",
      "|  michael|armbrust|no-reply@berkeley...|100000|\n",
      "| xiangrui|    meng|no-reply@stanford...|120000|\n",
      "| xiangrui|    meng|no-reply@stanford...|120000|\n",
      "+---------+--------+--------------------+------+\n",
      "\n"
     ]
    }
   ],
   "source": [
    "filterDNullDF = explodedDF.filter(col(\"firstName\").isNotNull() & col(\"lastName\").isNotNull())\\\n",
    "                    .sort(\"email\")\n",
    "filterDNullDF.show()"
   ]
  },
  {
   "cell_type": "markdown",
   "metadata": {},
   "source": [
    "## Regroupement et agrégation des données\n",
    "\n",
    "Exemples d'agrégations utilisant `agg ()` et `countDistinct ()`."
   ]
  },
  {
   "cell_type": "code",
   "execution_count": 66,
   "metadata": {},
   "outputs": [
    {
     "name": "stdout",
     "output_type": "stream",
     "text": [
      "+---------+--------+-------------------------+\n",
      "|firstName|lastName|count(DISTINCT firstName)|\n",
      "+---------+--------+-------------------------+\n",
      "|     null| wendell|                        0|\n",
      "|    matei|    null|                        1|\n",
      "| xiangrui|    meng|                        1|\n",
      "|  michael|armbrust|                        1|\n",
      "+---------+--------+-------------------------+\n",
      "\n"
     ]
    }
   ],
   "source": [
    "from pyspark.sql.functions import countDistinct\n",
    "\n",
    "countDistinctDF = explodedDF.select(\"firstName\", \"lastName\")\\\n",
    "  .groupBy(\"firstName\", \"lastName\").agg(countDistinct(\"firstName\"))\n",
    "countDistinctDF.show()"
   ]
  },
  {
   "cell_type": "markdown",
   "metadata": {},
   "source": [
    "Comparez **les plans physiques**  DataFrame et SQL Query (indice: ils doivent être identiques.)\n",
    "* Dans Spark SQL, le plan physique fournit les informations fondamentales sur l'exécution de la requête. L'objectif de cette présentation est de transmettre la compréhension et la familiarité des plans de requête dans Spark SQL, et d'utiliser ces connaissances pour obtenir de meilleures performances des requêtes Apache Spark."
   ]
  },
  {
   "cell_type": "code",
   "execution_count": 67,
   "metadata": {},
   "outputs": [
    {
     "name": "stdout",
     "output_type": "stream",
     "text": [
      "== Physical Plan ==\n",
      "*(3) HashAggregate(keys=[firstName#592, lastName#593], functions=[count(distinct firstName#592)])\n",
      "+- *(3) HashAggregate(keys=[firstName#592, lastName#593], functions=[partial_count(distinct firstName#592)])\n",
      "   +- *(3) HashAggregate(keys=[firstName#592, lastName#593, firstName#592], functions=[])\n",
      "      +- Exchange hashpartitioning(firstName#592, lastName#593, firstName#592, 200)\n",
      "         +- *(2) HashAggregate(keys=[firstName#592, lastName#593, firstName#592], functions=[])\n",
      "            +- *(2) Project [e#585.firstName AS firstName#592, e#585.lastName AS lastName#593]\n",
      "               +- Generate explode(employees#570), false, [e#585]\n",
      "                  +- *(1) FileScan parquet [employees#570] Batched: false, Format: Parquet, Location: InMemoryFileIndex[file:/home/mbds/spark/tpSpark/3_DataFramesSQL/output_parquet/dfexample_parquet], PartitionFilters: [], PushedFilters: [], ReadSchema: struct<employees:array<struct<firstName:string,lastName:string,email:string,salary:bigint>>>\n"
     ]
    }
   ],
   "source": [
    "countDistinctDF.explain()"
   ]
  },
  {
   "cell_type": "markdown",
   "metadata": {},
   "source": [
    "On peut avoir meme resultat en utilisant sql"
   ]
  },
  {
   "cell_type": "code",
   "execution_count": 68,
   "metadata": {},
   "outputs": [
    {
     "name": "stdout",
     "output_type": "stream",
     "text": [
      "+---------+--------+--------------------+\n",
      "|firstName|lastName|distinct_first_names|\n",
      "+---------+--------+--------------------+\n",
      "|     null| wendell|                   0|\n",
      "|    matei|    null|                   1|\n",
      "| xiangrui|    meng|                   1|\n",
      "|  michael|armbrust|                   1|\n",
      "+---------+--------+--------------------+\n",
      "\n"
     ]
    }
   ],
   "source": [
    "# register the DataFrame as a temp table so that we can query it using SQL\n",
    "explodedDF.registerTempTable(\"df_example\")\n",
    "\n",
    "# Perform the same query as the DataFrame above and return ``explain``\n",
    "countDistinctDF_sql = spark.sql(\"SELECT firstName, lastName, count(distinct firstName) as distinct_first_names FROM df_example GROUP BY firstName, lastName\")\n",
    "countDistinctDF_sql.show()"
   ]
  },
  {
   "cell_type": "code",
   "execution_count": 69,
   "metadata": {},
   "outputs": [
    {
     "name": "stdout",
     "output_type": "stream",
     "text": [
      "== Physical Plan ==\n",
      "*(3) HashAggregate(keys=[firstName#592, lastName#593], functions=[count(distinct firstName#592)])\n",
      "+- *(3) HashAggregate(keys=[firstName#592, lastName#593], functions=[partial_count(distinct firstName#592)])\n",
      "   +- *(3) HashAggregate(keys=[firstName#592, lastName#593, firstName#592], functions=[])\n",
      "      +- Exchange hashpartitioning(firstName#592, lastName#593, firstName#592, 200)\n",
      "         +- *(2) HashAggregate(keys=[firstName#592, lastName#593, firstName#592], functions=[])\n",
      "            +- *(2) Project [e#585.firstName AS firstName#592, e#585.lastName AS lastName#593]\n",
      "               +- Generate explode(employees#570), false, [e#585]\n",
      "                  +- *(1) FileScan parquet [employees#570] Batched: false, Format: Parquet, Location: InMemoryFileIndex[file:/home/mbds/spark/tpSpark/3_DataFramesSQL/output_parquet/dfexample_parquet], PartitionFilters: [], PushedFilters: [], ReadSchema: struct<employees:array<struct<firstName:string,lastName:string,email:string,salary:bigint>>>\n"
     ]
    }
   ],
   "source": [
    "countDistinctDF_sql.explain()"
   ]
  },
  {
   "cell_type": "markdown",
   "metadata": {},
   "source": [
    "Faites la somme de tous les salaires"
   ]
  },
  {
   "cell_type": "code",
   "execution_count": 70,
   "metadata": {},
   "outputs": [
    {
     "name": "stdout",
     "output_type": "stream",
     "text": [
      "+-----------+\n",
      "|sum(salary)|\n",
      "+-----------+\n",
      "|    1040000|\n",
      "+-----------+\n",
      "\n"
     ]
    }
   ],
   "source": [
    "salarySumDF = explodedDF.agg({\"salary\" : \"sum\"}) \n",
    "salarySumDF.show()"
   ]
  },
  {
   "cell_type": "code",
   "execution_count": 71,
   "metadata": {},
   "outputs": [
    {
     "name": "stdout",
     "output_type": "stream",
     "text": [
      "+-----------+\n",
      "|sum(salary)|\n",
      "+-----------+\n",
      "|    1040000|\n",
      "+-----------+\n",
      "\n"
     ]
    }
   ],
   "source": [
    "sum_sql = spark.sql(\"SELECT sum(salary)  FROM df_example\")\n",
    "sum_sql.show()"
   ]
  },
  {
   "cell_type": "markdown",
   "metadata": {},
   "source": [
    "Imprimez les statistiques récapitulatives des salaires."
   ]
  },
  {
   "cell_type": "code",
   "execution_count": 75,
   "metadata": {},
   "outputs": [
    {
     "name": "stdout",
     "output_type": "stream",
     "text": [
      "+-------+---------+--------+--------------------+------------------+\n",
      "|summary|firstName|lastName|               email|            salary|\n",
      "+-------+---------+--------+--------------------+------------------+\n",
      "|  count|        6|       6|                   8|                 8|\n",
      "|   mean|     null|    null|                null|          130000.0|\n",
      "| stddev|     null|    null|                null|23904.572186687874|\n",
      "|    min|    matei|armbrust|no-reply@berkeley...|            100000|\n",
      "|    max| xiangrui| wendell|no-reply@waterloo...|            160000|\n",
      "+-------+---------+--------+--------------------+------------------+\n",
      "\n"
     ]
    }
   ],
   "source": [
    "explodedDF.describe().show()"
   ]
  },
  {
   "cell_type": "code",
   "execution_count": 76,
   "metadata": {},
   "outputs": [
    {
     "name": "stdout",
     "output_type": "stream",
     "text": [
      "+-------+------------------+\n",
      "|summary|            salary|\n",
      "+-------+------------------+\n",
      "|  count|                 8|\n",
      "|   mean|          130000.0|\n",
      "| stddev|23904.572186687874|\n",
      "|    min|            100000|\n",
      "|    max|            160000|\n",
      "+-------+------------------+\n",
      "\n"
     ]
    }
   ],
   "source": [
    "explodedDF.describe(\"salary\").show()"
   ]
  },
  {
   "cell_type": "markdown",
   "metadata": {},
   "source": [
    "## Un exemple utilisant l'intégration Pandas et Matplotlib\n",
    "\n",
    "Il existe un connecteur permettant de convertir des dataframes Spark en dataframes pandas. Une fois que vous avez les données dans les dataframes Pandas, plusieurs frontaux de traçage sont disponibles. Y compris Matplotlib:"
   ]
  },
  {
   "cell_type": "code",
   "execution_count": 84,
   "metadata": {},
   "outputs": [
    {
     "data": {
      "text/plain": [
       "<AxesSubplot:xlabel='firstName'>"
      ]
     },
     "execution_count": 84,
     "metadata": {},
     "output_type": "execute_result"
    },
    {
     "data": {
      "image/png": "[encoded data removed]",
      "text/plain": [
       "<Figure size 432x288 with 1 Axes>"
      ]
     },
     "metadata": {
      "needs_background": "light"
     },
     "output_type": "display_data"
    }
   ],
   "source": [
    "import pandas as pd\n",
    "import numpy as np\n",
    "import matplotlib.pyplot as plt\n",
    "%matplotlib inline  \n",
    "\n",
    "pdDF = nonNullDF.toPandas()\n",
    "pdDF.plot(x='firstName', y='salary', kind='bar',rot=45)\n",
    "#display()"
   ]
  },
  {
   "cell_type": "markdown",
   "metadata": {},
   "source": [
    "## Fonctions définies par l'utilisateur en Python\n",
    "\n",
    "Ce Tp contient quelques exemples de création d'un **UDF** en Python et de son enregistrement pour une utilisation dans Spark SQL.\n",
    "* https://sparkbyexamples.com/pyspark/pyspark-udf-user-defined-function/\n",
    "\n",
    "\n",
    "### Étape 1: Enregistrez une fonction comme UDF.\n",
    "\n",
    "Une fois la fonction standard définie dans Python, vous devez l'enregistrer en tant que UDF pour pouvoir l'utiliser sur Spark DataFrames"
   ]
  },
  {
   "cell_type": "code",
   "execution_count": 85,
   "metadata": {},
   "outputs": [],
   "source": [
    "def squared(s):\n",
    "    return s * s"
   ]
  },
  {
   "cell_type": "code",
   "execution_count": 86,
   "metadata": {},
   "outputs": [
    {
     "data": {
      "text/plain": [
       "<function __main__.squared(s)>"
      ]
     },
     "execution_count": 86,
     "metadata": {},
     "output_type": "execute_result"
    }
   ],
   "source": [
    "spark.udf.register(\"squaredWithPython1\", squared)"
   ]
  },
  {
   "cell_type": "markdown",
   "metadata": {},
   "source": [
    "En option, vous pouvez également définir explicitement le type de retour de votre UDF."
   ]
  },
  {
   "cell_type": "code",
   "execution_count": 87,
   "metadata": {},
   "outputs": [
    {
     "data": {
      "text/plain": [
       "<function __main__.squared(s)>"
      ]
     },
     "execution_count": 87,
     "metadata": {},
     "output_type": "execute_result"
    }
   ],
   "source": [
    "from pyspark.sql.types import LongType\n",
    "\n",
    "\n",
    "spark.udf.register(\"squaredWithPython2\", squared, LongType())"
   ]
  },
  {
   "cell_type": "markdown",
   "metadata": {},
   "source": [
    "### Étape 2: Appelez l'UDF dans Spark SQL\n",
    "\n",
    "Créez un dataframe pour tester l'UDF nouvellement créé :"
   ]
  },
  {
   "cell_type": "code",
   "execution_count": 88,
   "metadata": {},
   "outputs": [],
   "source": [
    "spark.range(1, 20).registerTempTable(\"test_dataframe\")"
   ]
  },
  {
   "cell_type": "markdown",
   "metadata": {},
   "source": [
    "### Étape 3: Utilisez UDF avec DataFrames"
   ]
  },
  {
   "cell_type": "code",
   "execution_count": 89,
   "metadata": {},
   "outputs": [
    {
     "name": "stdout",
     "output_type": "stream",
     "text": [
      "+---+\n",
      "| id|\n",
      "+---+\n",
      "|  1|\n",
      "|  2|\n",
      "|  3|\n",
      "|  4|\n",
      "|  5|\n",
      "|  6|\n",
      "|  7|\n",
      "|  8|\n",
      "|  9|\n",
      "| 10|\n",
      "| 11|\n",
      "| 12|\n",
      "| 13|\n",
      "| 14|\n",
      "| 15|\n",
      "| 16|\n",
      "| 17|\n",
      "| 18|\n",
      "| 19|\n",
      "+---+\n",
      "\n"
     ]
    }
   ],
   "source": [
    "df = spark.table(\"test_dataframe\")\n",
    "df.select(\"id\").show()"
   ]
  },
  {
   "cell_type": "code",
   "execution_count": 90,
   "metadata": {},
   "outputs": [
    {
     "name": "stdout",
     "output_type": "stream",
     "text": [
      "+---+----------+\n",
      "| id|id_squared|\n",
      "+---+----------+\n",
      "|  1|         1|\n",
      "|  2|         4|\n",
      "|  3|         9|\n",
      "|  4|        16|\n",
      "|  5|        25|\n",
      "|  6|        36|\n",
      "|  7|        49|\n",
      "|  8|        64|\n",
      "|  9|        81|\n",
      "| 10|       100|\n",
      "| 11|       121|\n",
      "| 12|       144|\n",
      "| 13|       169|\n",
      "| 14|       196|\n",
      "| 15|       225|\n",
      "| 16|       256|\n",
      "| 17|       289|\n",
      "| 18|       324|\n",
      "| 19|       361|\n",
      "+---+----------+\n",
      "\n"
     ]
    }
   ],
   "source": [
    "from pyspark.sql.functions import udf\n",
    "\n",
    "squared_udf = udf(squared, LongType())\n",
    "df = spark.table(\"test_dataframe\")\n",
    "df.select(\"id\", squared_udf(\"id\").alias(\"id_squared\")).show()"
   ]
  },
  {
   "cell_type": "markdown",
   "metadata": {},
   "source": [
    "Revenons à notre exemple avec les maisons et l'Office fédéral du logement:\" homes and Federal Housing Authority\""
   ]
  },
  {
   "cell_type": "code",
   "execution_count": 92,
   "metadata": {},
   "outputs": [
    {
     "name": "stdout",
     "output_type": "stream",
     "text": [
      "+----------+-------------+\n",
      "|State_Code|        GEOID|\n",
      "+----------+-------------+\n",
      "|      null|         null|\n",
      "|         1|  1.0872319E9|\n",
      "|         1|1.025958001E9|\n",
      "|         1|   1.097005E9|\n",
      "|         1|1.101005603E9|\n",
      "|         1|  1.0919732E9|\n",
      "|         1|1.097001302E9|\n",
      "|         1|  1.0970049E9|\n",
      "|         1|  1.0730105E9|\n",
      "|         1|   1.097004E9|\n",
      "|         1|1.073005104E9|\n",
      "|         1|  1.0970027E9|\n",
      "|         1|1.101005102E9|\n",
      "|         1|1.097003204E9|\n",
      "|         1|  1.0330203E9|\n",
      "|         1|  1.0730035E9|\n",
      "|         1|  1.1010012E9|\n",
      "|         1|  1.0279592E9|\n",
      "|         1|    1.06306E9|\n",
      "|         1|1.073003803E9|\n",
      "+----------+-------------+\n",
      "only showing top 20 rows\n",
      "\n"
     ]
    }
   ],
   "source": [
    "from pyspark.sql.functions import udf\n",
    "from math import pow\n",
    "\n",
    "def geoid(x,y,z):\n",
    "    if x is not None and y is not None and z is not None:\n",
    "        return 100*x + pow(10,6)*y + pow(10,9)*z\n",
    "    else:\n",
    "        return None\n",
    "\n",
    "geoid_udf = udf(geoid)\n",
    "\n",
    "#geoid = lambda x,y,z: x*100 + 10**6*y + 10**9*z\n",
    "fha_df = fha_df.withColumn(\"GEOID\",geoid_udf(\"Census_Tract_Number\",\"County_Code\",\"State_Code\"))\n",
    "\n",
    "fha_df.select(col('State_Code'),col('GEOID')).sort('State_Code').show()  "
   ]
  },
  {
   "cell_type": "code",
   "execution_count": 93,
   "metadata": {},
   "outputs": [
    {
     "name": "stdout",
     "output_type": "stream",
     "text": [
      "+----------+---------------+------------+\n",
      "|State_Code|sum(State_Code)|sum(NUM_ALL)|\n",
      "+----------+---------------+------------+\n",
      "|        31|          16554|       18367|\n",
      "|        53|          76797|       68937|\n",
      "|        34|          66708|       58948|\n",
      "|        28|          17892|       16140|\n",
      "|        26|          64480|       73917|\n",
      "+----------+---------------+------------+\n",
      "only showing top 5 rows\n",
      "\n"
     ]
    }
   ],
   "source": [
    "#groupby aggregate\n",
    "fha_df_by_state = fha_df.select('State_Code', 'NUM_ALL').groupBy('State_Code').sum()\n",
    "fha_df_by_state.show(5)"
   ]
  },
  {
   "cell_type": "code",
   "execution_count": 94,
   "metadata": {},
   "outputs": [
    {
     "name": "stdout",
     "output_type": "stream",
     "text": [
      "+----------+---------------+------------+\n",
      "|State_Code|sum(State_Code)|sum(NUM_FHA)|\n",
      "+----------+---------------+------------+\n",
      "|        31|          16554|        4808|\n",
      "|        53|          76797|       15026|\n",
      "|        34|          66708|       14056|\n",
      "|        28|          17892|        3825|\n",
      "|        26|          64480|       23131|\n",
      "+----------+---------------+------------+\n",
      "only showing top 5 rows\n",
      "\n"
     ]
    }
   ],
   "source": [
    "#groupby aggregate\n",
    "fha_df_by_state = fha_df.select('State_Code', 'NUM_FHA').groupBy('State_Code').sum()\n",
    "fha_df_by_state.show(5)"
   ]
  },
  {
   "cell_type": "code",
   "execution_count": null,
   "metadata": {},
   "outputs": [],
   "source": []
  }
 ],
 "metadata": {
  "anaconda-cloud": {},
  "kernelspec": {
   "display_name": "Python 3",
   "language": "python",
   "name": "python3"
  },
  "language_info": {
   "codemirror_mode": {
    "name": "ipython",
    "version": 3
   },
   "file_extension": ".py",
   "mimetype": "text/x-python",
   "name": "python",
   "nbconvert_exporter": "python",
   "pygments_lexer": "ipython3",
   "version": "3.7.3"
  }
 },
 "nbformat": 4,
 "nbformat_minor": 4
}
