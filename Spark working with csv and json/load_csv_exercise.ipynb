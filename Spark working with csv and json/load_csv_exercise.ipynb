{
 "cells": [
  {
   "cell_type": "markdown",
   "metadata": {},
   "source": [
    "## TP 2 : Exercice CSV\n",
    "<center>\n",
    "    <strong>Nom et Prénom:</strong> EL ATTARI Yassine \n",
    "</center>"
   ]
  },
  {
   "cell_type": "markdown",
   "metadata": {},
   "source": [
    "#### Remarque: les chemins des fichiers doit être une URL Hadoop (« hdfs:// », « file:// »), puis nous devons ajouter avant os.getcwd() \"file://\" dans tous les examples"
   ]
  },
  {
   "cell_type": "code",
   "execution_count": 7,
   "metadata": {},
   "outputs": [
    {
     "name": "stdout",
     "output_type": "stream",
     "text": [
      "Row(id=1, title='The Matrix', tagline='Welcome to the Real World.', poster_image='http://image.tmdb.org/t/p/w185/gynBNzwyaHKtXqlEKKLioNkjKgN.jpg', duration=136, rated='R')\n"
     ]
    }
   ],
   "source": [
    "import time\n",
    "import pyspark\n",
    "import os\n",
    "start  = time.time()\n",
    " \n",
    "spark = pyspark.sql.SparkSession.builder.appName(\"LoadCsv\").getOrCreate()\n",
    "delimiter = \"|\"\n",
    "\n",
    "    #Load 3 csv files into spark dataframe   \n",
    "person_df = spark.read.options(header='true', inferschema='true',delimiter=delimiter).csv(\"file://\"+os.getcwd()+\"/data/csv/person_nodes.csv\")\n",
    "movie_df = spark.read.options(header='true', inferschema='true',delimiter=delimiter).csv(\"file://\"+os.getcwd()+\"/data/csv/movie_nodes.csv\")\n",
    "relationships_df = spark.read.options(header='true', inferschema='true',delimiter=delimiter).csv(\"file://\"+os.getcwd()+\"/data/csv/acted_in_rels.csv\")\n",
    "#Vérification de la forme des données\n",
    "header = movie_df.first()\n",
    "print(header)"
   ]
  },
  {
   "cell_type": "markdown",
   "metadata": {},
   "source": [
    "### Au niveau de la jointure, nous pouvons spécifier les champs utilisés pour la jointure comme deuxième paramètre."
   ]
  },
  {
   "cell_type": "code",
   "execution_count": 2,
   "metadata": {},
   "outputs": [],
   "source": [
    "    #Prepare a linked dataset of people, movies and the roles for people who played in those movies\n",
    "df = person_df.join(relationships_df, (person_df.id == relationships_df.person_id))\n",
    "combined_df = df.join(movie_df, (df.movie_id == movie_df.id))\n",
    "#Vérification de la forme des données\n",
    "#print(combined_df[0])"
   ]
  },
  {
   "cell_type": "markdown",
   "metadata": {},
   "source": [
    "### selon la documentation, pour filter les données on peut utiliser la méthode where ou filter"
   ]
  },
  {
   "cell_type": "code",
   "execution_count": 8,
   "metadata": {},
   "outputs": [
    {
     "name": "stdout",
     "output_type": "stream",
     "text": [
      "+---------+------------+--------------------+\n",
      "|     name|       title|               roles|\n",
      "+---------+------------+--------------------+\n",
      "|Tom Hanks| Cloud Atlas|Old Salty Dog / M...|\n",
      "|Tom Hanks|Forrest Gump|        Forrest Gump|\n",
      "+---------+------------+--------------------+\n",
      "\n",
      "None\n"
     ]
    }
   ],
   "source": [
    "\n",
    "    #Use where statement analogous to that in Pandas dataframes to find movies associated with name \"Tom Hanks\"\n",
    "answer = combined_df.where(\"name='Tom Hanks'\")\n",
    "\n",
    "#Même résultat\n",
    "#answer = combined_df.filter(\"name='Tom Hanks'\")\n",
    "\n",
    "\n",
    "    #Return only actor name, movie title and roles\n",
    "print (answer.select(\"name\", \"title\", \"roles\").show())"
   ]
  },
  {
   "cell_type": "code",
   "execution_count": 6,
   "metadata": {},
   "outputs": [
    {
     "name": "stdout",
     "output_type": "stream",
     "text": [
      "Elapsed time:  263.05965638160706\n"
     ]
    }
   ],
   "source": [
    "\n",
    "    #Save the answer in JSON format \n",
    "answer.coalesce(1).select(\"name\", \"title\", \"roles\").write.json(\"file://\"+os.getcwd()+\"/output/json/result.json\")\n",
    "\n",
    "end = time.time()\n",
    "print (\"Elapsed time: \", (end-start))"
   ]
  },
  {
   "cell_type": "code",
   "execution_count": null,
   "metadata": {},
   "outputs": [],
   "source": []
  }
 ],
 "metadata": {
  "kernelspec": {
   "display_name": "Python 3",
   "language": "python",
   "name": "python3"
  },
  "language_info": {
   "codemirror_mode": {
    "name": "ipython",
    "version": 3
   },
   "file_extension": ".py",
   "mimetype": "text/x-python",
   "name": "python",
   "nbconvert_exporter": "python",
   "pygments_lexer": "ipython3",
   "version": "3.7.3"
  }
 },
 "nbformat": 4,
 "nbformat_minor": 4
}
