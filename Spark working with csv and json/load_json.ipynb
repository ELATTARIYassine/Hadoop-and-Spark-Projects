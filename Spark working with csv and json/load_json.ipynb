{
 "cells": [
  {
   "cell_type": "markdown",
   "metadata": {},
   "source": [
    "### TP2 2/2\n",
    "#### Nom et Prénom : EL ATTARI Yassine"
   ]
  },
  {
   "cell_type": "code",
   "execution_count": 9,
   "metadata": {},
   "outputs": [],
   "source": [
    "from pyspark.sql import SparkSession\n",
    "\n",
    "import json\n",
    "import sys\n",
    "import os\n",
    "import pyspark\n",
    "try:\n",
    "    sc\n",
    "except NameError:    \n",
    "    spark = pyspark.sql.SparkSession.builder.master(\"local[*]\").appName(\"hadoop course\").config(\"spark.hadoop.validateOutputSpecs\", \"false\").getOrCreate()\n",
    "    sc = spark.sparkContext\n",
    "\n",
    "spark = SparkSession.builder.appName(\"LoadJson\").getOrCreate()\n",
    "\n",
    "# importer le fichier json creer dans l'exercice 1\n",
    "input = spark.read.json(\"file://\"+os.getcwd()+\"/output/json/result.json\")"
   ]
  },
  {
   "cell_type": "code",
   "execution_count": 4,
   "metadata": {},
   "outputs": [
    {
     "name": "stdout",
     "output_type": "stream",
     "text": [
      "root\n",
      " |-- name: string (nullable = true)\n",
      " |-- roles: string (nullable = true)\n",
      " |-- title: string (nullable = true)\n",
      "\n"
     ]
    }
   ],
   "source": [
    "input.printSchema()"
   ]
  },
  {
   "cell_type": "code",
   "execution_count": 6,
   "metadata": {},
   "outputs": [],
   "source": [
    "input.registerTempTable(\"movies\")\n",
    "answer = spark.sql(\"SELECT * FROM movies WHERE title LIKE '%Atlas%'\")\n",
    "answer.coalesce(1).write.json(\"file://\"+os.getcwd()+\"/output/json/ex2.json\") "
   ]
  },
  {
   "cell_type": "code",
   "execution_count": 8,
   "metadata": {},
   "outputs": [],
   "source": [
    "input = spark.sparkContext.textFile(\"file://\"+os.getcwd()+\"/output/json/ex2.json\")\n",
    "data = input.map(lambda x: json.loads(x)).filter(lambda x: 'Atlas' in x['title'])\n",
    "data.coalesce(1).saveAsTextFile(\"file://\"+os.getcwd()+\"/output/json/ex3.json\")"
   ]
  },
  {
   "cell_type": "markdown",
   "metadata": {},
   "source": [
    "### Resultat: contenu du fichier output/json/ex3.json/part-00000\n",
    "\n",
    "{'name': 'Tom Hanks', 'roles': 'Old Salty Dog / Mr. Meeks / Prescient 1', 'title': 'Cloud Atlas'}"
   ]
  },
  {
   "cell_type": "code",
   "execution_count": null,
   "metadata": {},
   "outputs": [],
   "source": []
  }
 ],
 "metadata": {
  "kernelspec": {
   "display_name": "Python 3",
   "language": "python",
   "name": "python3"
  },
  "language_info": {
   "codemirror_mode": {
    "name": "ipython",
    "version": 3
   },
   "file_extension": ".py",
   "mimetype": "text/x-python",
   "name": "python",
   "nbconvert_exporter": "python",
   "pygments_lexer": "ipython3",
   "version": "3.7.3"
  }
 },
 "nbformat": 4,
 "nbformat_minor": 4
}
